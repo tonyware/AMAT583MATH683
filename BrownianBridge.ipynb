{
 "cells": [
  {
   "cell_type": "markdown",
   "metadata": {},
   "source": [
    "# Brownian Bridge\n",
    "Here is code that takes an existing (set of) Brownian motions W (the curves should be arranged in columns), with an associated time vector t, and uses the Brownian Bridge to create tt and WW with an additional sample placed in between each original sample."
   ]
  },
  {
   "cell_type": "code",
   "execution_count": null,
   "metadata": {
    "collapsed": false
   },
   "outputs": [],
   "source": [
    "import numpy as np\n",
    "%pylab inline"
   ]
  },
  {
   "cell_type": "code",
   "execution_count": null,
   "metadata": {
    "collapsed": true
   },
   "outputs": [],
   "source": [
    "def RefineBB(t,W):\n",
    "    N = t.shape[0]\n",
    "    M = W.shape[1]\n",
    "    dt = np.diff(t).reshape((N-1,1)) # make dt into a column array\n",
    "    tt = np.zeros(2*N-1)\n",
    "    WW = np.zeros((2*N-1,M))\n",
    "    tt[0::2] = t\n",
    "    WW[0::2,:] = W\n",
    "    ind = np.arange(0,2*N-1,1)\n",
    "    ind = ind[1::2]\n",
    "    tt[ind] = (tt[ind-1]+tt[ind+1])/2\n",
    "    WW[ind,:] = (WW[ind-1,:]+WW[ind+1,:])/2+np.random.randn(N-1,M)*tile(np.sqrt(dt),(1,M))/2\n",
    "    return tt,WW"
   ]
  },
  {
   "cell_type": "code",
   "execution_count": null,
   "metadata": {
    "collapsed": false
   },
   "outputs": [],
   "source": [
    "# set the length of the initial simulation\n",
    "N = 21\n",
    "# set the number of paths\n",
    "M = 10\n",
    "# determine the time step\n",
    "t = np.linspace(0,1,N).T\n",
    "dt = np.diff(t).reshape((N-1,1)) # make dt into a column array\n",
    "# use Matlab-style vector operations to create some sample Brownian motion paths\n",
    "z = np.random.randn(len(t)-1,10) # standard normals\n",
    "W = np.cumsum(z*np.tile(np.sqrt(dt),(1,M)),axis=0) # sample Brownian motions\n",
    "W = np.vstack([np.zeros((1,M)),W]) # that start at zero\n",
    "ax = subplot(331)\n",
    "plot(t,W,linewidth=0.5);\n",
    "axis('off')\n",
    "for i in range(8):\n",
    "    t,W = RefineBB(t,W) # Repeat this line to generate additional refinement.\n",
    "    ax = subplot(3,3,i+2)\n",
    "    plot(t,W,linewidth=0.5);\n",
    "    axis('off')\n",
    "savefig('Images/BrownianBridge.eps');\n",
    "savefig('Images/BrownianBridge.pdf');"
   ]
  },
  {
   "cell_type": "code",
   "execution_count": null,
   "metadata": {
    "collapsed": true
   },
   "outputs": [],
   "source": []
  }
 ],
 "metadata": {
  "kernelspec": {
   "display_name": "Python 3",
   "language": "python",
   "name": "python3"
  },
  "language_info": {
   "codemirror_mode": {
    "name": "ipython",
    "version": 3
   },
   "file_extension": ".py",
   "mimetype": "text/x-python",
   "name": "python",
   "nbconvert_exporter": "python",
   "pygments_lexer": "ipython3",
   "version": "3.5.2"
  }
 },
 "nbformat": 4,
 "nbformat_minor": 1
}
