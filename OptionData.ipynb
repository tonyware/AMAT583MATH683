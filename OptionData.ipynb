{
 "cells": [
  {
   "cell_type": "markdown",
   "metadata": {},
   "source": [
    "We are going to access some market option data, using [pandas](http://pandas.pydata.org/pandas-docs/stable/10min.html#)."
   ]
  },
  {
   "cell_type": "code",
   "execution_count": null,
   "metadata": {
    "collapsed": false
   },
   "outputs": [],
   "source": [
    "import pandas as pd\n",
    "from pandas_datareader import data as web\n",
    "import datetime\n",
    "\n",
    "from pandas_datareader.data import Options\n",
    "Symbol = 'AAPL'\n",
    "\n",
    "yahoo_options = Options(Symbol, 'yahoo')\n",
    "data = yahoo_options.get_all_data()"
   ]
  },
  {
   "cell_type": "markdown",
   "metadata": {},
   "source": [
    "`data` is a panda with rows labelled by a [multiindex](http://pandas.pydata.org/pandas-docs/stable/advanced.html), and columns indexed by various labels ('Last','Bid',...).\n",
    "\n",
    "Dates are handled by the [`datetime` module](https://docs.python.org/3/library/datetime.html).\n",
    "\n",
    "We can access slices of the panda in various ways (uncomment one of the commands in this list to see what it does)."
   ]
  },
  {
   "cell_type": "code",
   "execution_count": null,
   "metadata": {
    "collapsed": false
   },
   "outputs": [],
   "source": [
    "#data.loc[(110, slice(None), 'puts'),:].iloc[0:5, 0:8]\n",
    "#data.loc[(slice(None), \"2019-01-18\"),:].iloc[0:20, 0:8]\n",
    "#data.loc[(slice(None), \"2019-01-18\"),:].iloc[0:20, 0:8].values"
   ]
  },
  {
   "cell_type": "markdown",
   "metadata": {},
   "source": [
    "We can also access the latest spot price quote from Yahoo."
   ]
  },
  {
   "cell_type": "code",
   "execution_count": null,
   "metadata": {
    "collapsed": true
   },
   "outputs": [],
   "source": [
    "Stock_Quote = web.get_quote_yahoo(Symbol)"
   ]
  },
  {
   "cell_type": "markdown",
   "metadata": {},
   "source": [
    "But we are only interested in the last quoted value:"
   ]
  },
  {
   "cell_type": "code",
   "execution_count": null,
   "metadata": {
    "collapsed": false
   },
   "outputs": [],
   "source": [
    "Stock = Stock_Quote.loc[:,'last'].values\n",
    "print('The last quoted value is $%.2f'%Stock[0])"
   ]
  },
  {
   "cell_type": "markdown",
   "metadata": {
    "collapsed": false
   },
   "source": [
    "For each expiry time, I want to plot call and put option prices as functions of the strike price"
   ]
  },
  {
   "cell_type": "code",
   "execution_count": null,
   "metadata": {
    "collapsed": false
   },
   "outputs": [],
   "source": [
    "PriceType = 'IV' # use \"Mid\", \"Bid\", \"Ask\", \"Last\", or \"IV\"\n",
    "if PriceType == 'Mid':\n",
    "    GetPrices = lambda x: (x.loc[:,'Bid'].values+x.loc[:,'Ask'].values)/2.0\n",
    "else:\n",
    "    GetPrices = lambda x: x.loc[:,PriceType].values\n",
    "\n",
    "Minimum_Open_Interest = 100  # we will only include quotes with sufficiently high open interest\n",
    "Option_Types = ['puts','calls']\n",
    "Option_Titles = ['Put','Call']\n",
    "Expiry_Dates = data.index.levels[1]\n",
    "Strikes = data.index.levels[0]\n",
    "# Prepare the plot\n",
    "from pylab import *\n",
    "style.use('seaborn-white')\n",
    "import mpld3 # enables zooming\n",
    "fig = figure(figsize=(12,8))\n",
    "for i in range(2):\n",
    "    ax = subplot(1,2,i+1)\n",
    "    Legend_Labels = []\n",
    "    for expiry_date in Expiry_Dates[Expiry_Dates.to_datetime()>datetime.datetime.now()]: # only use future expiry times\n",
    "        mydate = expiry_date.strftime('%Y-%m-%d') # we'll use this for selecting entries in the dataframe\n",
    "         \n",
    "        x = []; y = [] # the values to be plotted\n",
    "        for Strike in Strikes:\n",
    "            tmp = data.loc[(Strike,mydate,Option_Types[i]),:] # extract a one-line dataframe\n",
    "            p = GetPrices(tmp) # this function was defined at the head of the cell\n",
    "            OI = tmp.loc[:,'Open_Int'].values\n",
    "            Chg = tmp.loc[:,'Chg'].values\n",
    "            if len(p)>0 and Chg !=0 and OI>=Minimum_Open_Interest:\n",
    "                x.append(Strike)\n",
    "                y.append(p)\n",
    "        if len(x)>0:  # ie., if there is anything to plot\n",
    "            Legend_Labels.append(mydate);\n",
    "            plot(x,y,'o-',clip_on=False);\n",
    "    xlabel('Strike Price',fontsize=16);\n",
    "    if PriceType=='IV':\n",
    "        title('%s Implied Volatilities'%Option_Titles[i],fontsize=18);\n",
    "    else:\n",
    "        title('%s Option Prices (%s)'%(Option_Titles[i],PriceType),fontsize=18);\n",
    "    if i==1:\n",
    "        ax.annotate('%s: $%.2f' % (Symbol,Stock[0]), xy=(0.5, 0.95), xycoords='figure fraction',\n",
    "             ha=\"center\", va=\"top\",bbox=dict(boxstyle=\"square\", fc=\"0.8\"),fontsize=14,color='darkblue');\n",
    "    legend(Legend_Labels,loc=2-i,title='');\n",
    "    ax.grid(True,alpha=0.3);\n",
    "savefig(\"Images/\"+Symbol+\"Options\"+PriceType+\".eps\")\n",
    "savefig(\"Images/\"+Symbol+\"Options\"+PriceType+\".pdf\")\n",
    "mpld3.display(fig)\n"
   ]
  },
  {
   "cell_type": "code",
   "execution_count": null,
   "metadata": {
    "collapsed": false
   },
   "outputs": [],
   "source": []
  }
 ],
 "metadata": {
  "anaconda-cloud": {},
  "kernelspec": {
   "display_name": "Python 3",
   "language": "python",
   "name": "python3"
  },
  "language_info": {
   "codemirror_mode": {
    "name": "ipython",
    "version": 3
   },
   "file_extension": ".py",
   "mimetype": "text/x-python",
   "name": "python",
   "nbconvert_exporter": "python",
   "pygments_lexer": "ipython3",
   "version": "3.5.2"
  }
 },
 "nbformat": 4,
 "nbformat_minor": 2
}
