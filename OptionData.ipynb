{
 "cells": [
  {
   "cell_type": "markdown",
   "metadata": {},
   "source": [
    "We are going to access some market option data, using [pandas](http://pandas.pydata.org/pandas-docs/stable/10min.html#)."
   ]
  },
  {
   "cell_type": "code",
   "execution_count": 1,
   "metadata": {
    "collapsed": false
   },
   "outputs": [],
   "source": [
    "import pandas as pd\n",
    "from pandas_datareader import data as web\n",
    "import datetime\n",
    "\n",
    "from pandas_datareader.data import Options\n",
    "Symbol = 'AAPL'\n",
    "\n",
    "yahoo_options = Options(Symbol, 'yahoo')\n",
    "data = yahoo_options.get_all_data()"
   ]
  },
  {
   "cell_type": "markdown",
   "metadata": {},
   "source": [
    "`data` is a panda with rows labelled by a [multiindex](http://pandas.pydata.org/pandas-docs/stable/advanced.html), and columns indexed by various labels ('Last','Bid',...).\n",
    "\n",
    "Dates are handled by the [`datetime` module](https://docs.python.org/3/library/datetime.html).\n",
    "\n",
    "We can access slices of the panda in various ways (uncomment one of the commands in this list to see what it does)."
   ]
  },
  {
   "cell_type": "code",
   "execution_count": 2,
   "metadata": {
    "collapsed": false
   },
   "outputs": [
    {
     "data": {
      "text/html": [
       "<div>\n",
       "<table border=\"1\" class=\"dataframe\">\n",
       "  <thead>\n",
       "    <tr style=\"text-align: right;\">\n",
       "      <th></th>\n",
       "      <th></th>\n",
       "      <th></th>\n",
       "      <th></th>\n",
       "      <th>Last</th>\n",
       "      <th>Bid</th>\n",
       "      <th>Ask</th>\n",
       "      <th>Chg</th>\n",
       "      <th>PctChg</th>\n",
       "      <th>Vol</th>\n",
       "      <th>Open_Int</th>\n",
       "      <th>IV</th>\n",
       "    </tr>\n",
       "    <tr>\n",
       "      <th>Strike</th>\n",
       "      <th>Expiry</th>\n",
       "      <th>Type</th>\n",
       "      <th>Symbol</th>\n",
       "      <th></th>\n",
       "      <th></th>\n",
       "      <th></th>\n",
       "      <th></th>\n",
       "      <th></th>\n",
       "      <th></th>\n",
       "      <th></th>\n",
       "      <th></th>\n",
       "    </tr>\n",
       "  </thead>\n",
       "  <tbody>\n",
       "    <tr>\n",
       "      <th rowspan=\"5\" valign=\"top\">110.0</th>\n",
       "      <th>2017-01-20</th>\n",
       "      <th>puts</th>\n",
       "      <th>AAPL170120P00110000</th>\n",
       "      <td>0.01</td>\n",
       "      <td>0.00</td>\n",
       "      <td>0.01</td>\n",
       "      <td>-0.01</td>\n",
       "      <td>-50.000000</td>\n",
       "      <td>234</td>\n",
       "      <td>156854</td>\n",
       "      <td>0.390631</td>\n",
       "    </tr>\n",
       "    <tr>\n",
       "      <th>2017-01-27</th>\n",
       "      <th>puts</th>\n",
       "      <th>AAPL170127P00110000</th>\n",
       "      <td>0.06</td>\n",
       "      <td>0.05</td>\n",
       "      <td>0.06</td>\n",
       "      <td>-0.01</td>\n",
       "      <td>-14.285716</td>\n",
       "      <td>920</td>\n",
       "      <td>2437</td>\n",
       "      <td>0.277351</td>\n",
       "    </tr>\n",
       "    <tr>\n",
       "      <th>2017-02-03</th>\n",
       "      <th>puts</th>\n",
       "      <th>AAPL170203P00110000</th>\n",
       "      <td>0.32</td>\n",
       "      <td>0.30</td>\n",
       "      <td>0.35</td>\n",
       "      <td>-0.04</td>\n",
       "      <td>-11.111116</td>\n",
       "      <td>162</td>\n",
       "      <td>4093</td>\n",
       "      <td>0.310065</td>\n",
       "    </tr>\n",
       "    <tr>\n",
       "      <th>2017-02-10</th>\n",
       "      <th>puts</th>\n",
       "      <th>AAPL170210P00110000</th>\n",
       "      <td>0.39</td>\n",
       "      <td>0.36</td>\n",
       "      <td>0.43</td>\n",
       "      <td>-0.11</td>\n",
       "      <td>-22.000004</td>\n",
       "      <td>78</td>\n",
       "      <td>683</td>\n",
       "      <td>0.275886</td>\n",
       "    </tr>\n",
       "    <tr>\n",
       "      <th>2017-02-17</th>\n",
       "      <th>puts</th>\n",
       "      <th>AAPL170217P00110000</th>\n",
       "      <td>0.50</td>\n",
       "      <td>0.49</td>\n",
       "      <td>0.51</td>\n",
       "      <td>-0.06</td>\n",
       "      <td>-10.714286</td>\n",
       "      <td>890</td>\n",
       "      <td>33661</td>\n",
       "      <td>0.255134</td>\n",
       "    </tr>\n",
       "  </tbody>\n",
       "</table>\n",
       "</div>"
      ],
      "text/plain": [
       "                                            Last   Bid   Ask   Chg     PctChg  \\\n",
       "Strike Expiry     Type Symbol                                                   \n",
       "110.0  2017-01-20 puts AAPL170120P00110000  0.01  0.00  0.01 -0.01 -50.000000   \n",
       "       2017-01-27 puts AAPL170127P00110000  0.06  0.05  0.06 -0.01 -14.285716   \n",
       "       2017-02-03 puts AAPL170203P00110000  0.32  0.30  0.35 -0.04 -11.111116   \n",
       "       2017-02-10 puts AAPL170210P00110000  0.39  0.36  0.43 -0.11 -22.000004   \n",
       "       2017-02-17 puts AAPL170217P00110000  0.50  0.49  0.51 -0.06 -10.714286   \n",
       "\n",
       "                                            Vol  Open_Int        IV  \n",
       "Strike Expiry     Type Symbol                                        \n",
       "110.0  2017-01-20 puts AAPL170120P00110000  234    156854  0.390631  \n",
       "       2017-01-27 puts AAPL170127P00110000  920      2437  0.277351  \n",
       "       2017-02-03 puts AAPL170203P00110000  162      4093  0.310065  \n",
       "       2017-02-10 puts AAPL170210P00110000   78       683  0.275886  \n",
       "       2017-02-17 puts AAPL170217P00110000  890     33661  0.255134  "
      ]
     },
     "execution_count": 2,
     "metadata": {},
     "output_type": "execute_result"
    }
   ],
   "source": [
    "data.loc[(110, slice(None), 'puts'),:].iloc[0:5, 0:8]\n",
    "#data.loc[(slice(None), \"2019-01-18\"),:].iloc[0:20, 0:8]\n",
    "#data.loc[(slice(None), \"2019-01-18\"),:].iloc[0:20, 0:8].values"
   ]
  },
  {
   "cell_type": "markdown",
   "metadata": {},
   "source": [
    "We can also access the latest spot price quote from Yahoo."
   ]
  },
  {
   "cell_type": "code",
   "execution_count": null,
   "metadata": {
    "collapsed": true
   },
   "outputs": [],
   "source": [
    "Stock_Quote = web.get_quote_yahoo(Symbol)"
   ]
  },
  {
   "cell_type": "markdown",
   "metadata": {},
   "source": [
    "But we are only interested in the last quoted value:"
   ]
  },
  {
   "cell_type": "code",
   "execution_count": null,
   "metadata": {
    "collapsed": false
   },
   "outputs": [],
   "source": [
    "Stock = Stock_Quote.loc[:,'last'].values\n",
    "print('The last quoted value is $%.2f'%Stock[0])"
   ]
  },
  {
   "cell_type": "markdown",
   "metadata": {
    "collapsed": false
   },
   "source": [
    "For each expiry time, I want to plot call and put option prices as functions of the strike price"
   ]
  },
  {
   "cell_type": "code",
   "execution_count": null,
   "metadata": {
    "collapsed": false
   },
   "outputs": [],
   "source": [
    "PriceType = 'IV' # use \"Mid\", \"Bid\", \"Ask\", \"Last\", or \"IV\"\n",
    "if PriceType == 'Mid':\n",
    "    GetPrices = lambda x: (x.loc[:,'Bid'].values+x.loc[:,'Ask'].values)/2.0\n",
    "else:\n",
    "    GetPrices = lambda x: x.loc[:,PriceType].values\n",
    "\n",
    "Minimum_Open_Interest = 100  # we will only include quotes with sufficiently high open interest\n",
    "Option_Types = ['puts','calls'] # You may need to change this to ['put','call'] if you are running a different version of pandas_datareader\n",
    "Option_Titles = ['Put','Call']\n",
    "Expiry_Dates = data.index.levels[1]\n",
    "Strikes = data.index.levels[0]\n",
    "# Prepare the plot\n",
    "from pylab import *\n",
    "style.use('seaborn-white')\n",
    "import mpld3 # enables zooming\n",
    "fig = figure(figsize=(12,8))\n",
    "for i in range(2):\n",
    "    ax = subplot(1,2,i+1)\n",
    "    Legend_Labels = []\n",
    "    for expiry_date in Expiry_Dates[Expiry_Dates.to_datetime()>datetime.datetime.now()]: # only use future expiry times\n",
    "        mydate = expiry_date.strftime('%Y-%m-%d') # we'll use this for selecting entries in the dataframe\n",
    "         \n",
    "        x = []; y = [] # the values to be plotted\n",
    "        for Strike in Strikes:\n",
    "            tmp = data.loc[(Strike,mydate,Option_Types[i]),:] # extract a one-line dataframe\n",
    "            p = GetPrices(tmp) # this function was defined at the head of the cell\n",
    "            OI = tmp.loc[:,'Open_Int'].values\n",
    "            Chg = tmp.loc[:,'Chg'].values\n",
    "            if len(p)>0 and Chg !=0 and OI>=Minimum_Open_Interest:\n",
    "                x.append(Strike)\n",
    "                y.append(p)\n",
    "        if len(x)>0:  # ie., if there is anything to plot\n",
    "            Legend_Labels.append(mydate);\n",
    "            plot(x,y,'o-',clip_on=False);\n",
    "    xlabel('Strike Price',fontsize=16);\n",
    "    if PriceType=='IV':\n",
    "        title('%s Implied Volatilities'%Option_Titles[i],fontsize=18);\n",
    "    else:\n",
    "        title('%s Option Prices (%s)'%(Option_Titles[i],PriceType),fontsize=18);\n",
    "    if i==1:\n",
    "        ax.annotate('%s: $%.2f' % (Symbol,Stock[0]), xy=(0.5, 0.95), xycoords='figure fraction',\n",
    "             ha=\"center\", va=\"top\",bbox=dict(boxstyle=\"square\", fc=\"0.8\"),fontsize=14,color='darkblue');\n",
    "    legend(Legend_Labels,loc=2-i,title='');\n",
    "    ax.grid(True,alpha=0.3);\n",
    "savefig(\"Images/\"+Symbol+\"Options\"+PriceType+\".eps\")\n",
    "savefig(\"Images/\"+Symbol+\"Options\"+PriceType+\".pdf\")\n",
    "mpld3.display(fig)\n"
   ]
  },
  {
   "cell_type": "code",
   "execution_count": null,
   "metadata": {
    "collapsed": false
   },
   "outputs": [],
   "source": []
  }
 ],
 "metadata": {
  "anaconda-cloud": {},
  "kernelspec": {
   "display_name": "Python 3",
   "language": "python",
   "name": "python3"
  },
  "language_info": {
   "codemirror_mode": {
    "name": "ipython",
    "version": 3
   },
   "file_extension": ".py",
   "mimetype": "text/x-python",
   "name": "python",
   "nbconvert_exporter": "python",
   "pygments_lexer": "ipython3",
   "version": "3.5.2"
  }
 },
 "nbformat": 4,
 "nbformat_minor": 2
}
