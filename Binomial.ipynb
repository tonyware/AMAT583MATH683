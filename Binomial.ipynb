{
 "cells": [
  {
   "cell_type": "code",
   "execution_count": 2,
   "metadata": {
    "collapsed": true
   },
   "outputs": [
    {
     "name": "stdout",
     "output_type": "stream",
     "text": [
      "Populating the interactive namespace from numpy and matplotlib\n"
     ]
    }
   ],
   "source": [
    "import numpy as np\n",
    "%pylab inline"
   ]
  },
  {
   "cell_type": "code",
   "execution_count": 3,
   "metadata": {
    "collapsed": true
   },
   "outputs": [],
   "source": [
    "def option(N,S0,u,d,R,payoff,exercise_style='eur'):\n",
    "    #print(exercise_style)\n",
    "    nn = np.arange(0,N+1) # 0, 1, ... , N\n",
    "    #print(nn)\n",
    "    x0 = np.log(S0)\n",
    "    U = np.log(u); D = np.log(d)\n",
    "    x = x0 + (N-nn)*D + nn*U\n",
    "    S = np.exp(x)\n",
    "    #print(S)\n",
    "    V =  [payoff(S)] # option values at the final time\n",
    "    #print(V)\n",
    "    q = (1+R-d)/(u-d) # risk-neutral probability\n",
    "    for m in range(N):\n",
    "        nn = nn[:-1] # tuncate nn\n",
    "        # V[m] is the array of option values at the future time\n",
    "        tmpV = (1/(1+R))*(q*V[m][1+nn]+(1-q)*V[m][nn]) # continuation value\n",
    "        S = S[:-1]/d # array of asset values\n",
    "        if exercise_style=='am':\n",
    "            tmpV = np.maximum(tmpV,payoff(S))\n",
    "        V.append(tmpV)\n",
    "    #for m in range(N+1):\n",
    "    #    print(V[m][:])\n",
    "    return V"
   ]
  },
  {
   "cell_type": "code",
   "execution_count": 4,
   "metadata": {
    "collapsed": false
   },
   "outputs": [],
   "source": [
    "K = 10\n",
    "payoff = lambda S: np.maximum(K-S,0)\n",
    "S0=10\n",
    "T = 1\n",
    "mu = 0.1\n",
    "sigma = 0.5\n",
    "r = 0.02"
   ]
  },
  {
   "cell_type": "code",
   "execution_count": 5,
   "metadata": {
    "collapsed": true
   },
   "outputs": [
    {
     "name": "stdout",
     "output_type": "stream",
     "text": [
      "[array([ 0.90909091,  0.        ]), array([ 0.47619048])]\n"
     ]
    }
   ],
   "source": [
    "# alternatively,we can specify u, d, and R directly\n",
    "u=1.1\n",
    "d=1/u\n",
    "R=0.0\n",
    "V = option(1,S0,u,d,R,payoff,'eur')\n",
    "print(V)"
   ]
  },
  {
   "cell_type": "code",
   "execution_count": 8,
   "metadata": {
    "collapsed": true
   },
   "outputs": [],
   "source": [
    "VV = []\n",
    "for N in range(1,1000,2):\n",
    "    dt = T/N\n",
    "    R = np.exp(r*dt)-1\n",
    "    u = np.exp(r*dt+sigma*np.sqrt(dt))\n",
    "    d = np.exp(r*dt-sigma*np.sqrt(dt))\n",
    "    V = option(N,S0,u,d,R,payoff,'eur')\n",
    "    VV.append(V[N][0]) # V[N][0] is the value at the root node \n"
   ]
  },
  {
   "cell_type": "code",
   "execution_count": 10,
   "metadata": {
    "collapsed": true
   },
   "outputs": [
    {
     "data": {
      "image/png": "[encoded data removed]",
      "text/plain": [
       "<matplotlib.figure.Figure at 0x7f98089291d0>"
      ]
     },
     "metadata": {},
     "output_type": "display_data"
    }
   ],
   "source": [
    "dt = T/arange(1,1000,2)\n",
    "plot(dt,np.abs(VV[-1]-VV));\n",
    "yscale('log');xscale('log')"
   ]
  },
  {
   "cell_type": "markdown",
   "metadata": {
    "collapsed": false
   },
   "source": [
    "## Exercises:\n",
    " - Compare the European option values being calculated with the Black-Scholes value (instead of the final computed value, which is what the current code does) and investigate the convergence behaviour as N increases.\n",
    " - Add a timer to the code so you can measure how the time taken depends on N.\n",
    " - Repeat this with different prescriptions for u and d. Do your trees converge to the same value?\n",
    " - Compare the European and American option values for puts and for calls. \n",
    " - Modify the code to included dividends and repeat this comparison.\n",
    " - Add the capability of recording the exercise decisions at each node in the American case."
   ]
  },
  {
   "cell_type": "code",
   "execution_count": null,
   "metadata": {
    "collapsed": false
   },
   "outputs": [],
   "source": []
  }
 ],
 "metadata": {
  "kernelspec": {
   "display_name": "Python 3",
   "language": "python",
   "name": "python3"
  },
  "language_info": {
   "codemirror_mode": {
    "name": "ipython",
    "version": 3
   },
   "file_extension": ".py",
   "mimetype": "text/x-python",
   "name": "python",
   "nbconvert_exporter": "python",
   "pygments_lexer": "ipython3",
   "version": "3.5.2"
  }
 },
 "nbformat": 4,
 "nbformat_minor": 1
}
