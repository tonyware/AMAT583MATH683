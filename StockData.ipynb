{
 "cells": [
  {
   "cell_type": "code",
   "execution_count": null,
   "metadata": {
    "collapsed": false
   },
   "outputs": [],
   "source": [
    "import pandas as pd\n",
    "from pandas_datareader import data as web\n",
    "import datetime\n",
    "\n",
    "start = datetime.datetime(2000,1,1)\n",
    "end = datetime.date.today()\n",
    "\n",
    "# Let's get some stock data; for example, Apple's ticker symbol is AAPL\n",
    "Symbol = 'AAPL'\n",
    "Symbol = '^DJI'\n",
    "#Symbol = 'MSFT'\n",
    "\n",
    "# First argument is the series we want, second is the source (\"yahoo\" for Yahoo! Finance), third is the start date, fourth is the end date\n",
    "data = web.DataReader(Symbol, \"yahoo\", start, end)\n",
    "\n",
    "#data.head()\n",
    "data.tail()"
   ]
  },
  {
   "cell_type": "code",
   "execution_count": null,
   "metadata": {
    "collapsed": false
   },
   "outputs": [],
   "source": [
    "type(data)"
   ]
  },
  {
   "cell_type": "code",
   "execution_count": null,
   "metadata": {
    "collapsed": false
   },
   "outputs": [],
   "source": [
    "Prices = pd.DataFrame({Symbol: data[\"Adj Close\"]}) # use for yahoo data\n",
    "#Prices = pd.DataFrame({Symbol: data[\"Close\"]}) # use for google data"
   ]
  },
  {
   "cell_type": "code",
   "execution_count": null,
   "metadata": {
    "collapsed": false
   },
   "outputs": [],
   "source": [
    "import mpld3; # enables zooming\n",
    "from pylab import *\n",
    "#print(style.available)\n",
    "style.use('seaborn-white')"
   ]
  },
  {
   "cell_type": "code",
   "execution_count": null,
   "metadata": {
    "collapsed": false,
    "scrolled": false
   },
   "outputs": [],
   "source": [
    "fig = figure(figsize=(12,8))\n",
    "clf\n",
    "ax = fig.add_subplot(1, 1, 1)\n",
    "rc('xtick',labelsize=12);rc('ytick',labelsize=16);rc('legend',fontsize=12)\n",
    "Prices.plot(ax=ax,grid = True,linewidth=1,color='green');yscale('log');\n",
    "ylabel('Price',fontsize=18)\n",
    "xlabel('Date',fontsize=18)\n",
    "savefig(\"Images/\"+Symbol+\"Prices.pdf\")\n",
    "savefig(\"Images/\"+Symbol+\"Prices.eps\")\n",
    "mpld3.display(fig)"
   ]
  },
  {
   "cell_type": "markdown",
   "metadata": {},
   "source": [
    "For Apple, it looks as though something drastic happened in 2000. If we look at all the log-returns we can see this stand-out data point even more clearly. (You can find out more about what happened [here](http://money.cnn.com/2000/09/29/markets/techwrap/).)\n",
    "\n",
    "However, the big drop happened over a weekend, so if we only consider log-returns over daily steps we don't see it."
   ]
  },
  {
   "cell_type": "code",
   "execution_count": null,
   "metadata": {
    "collapsed": true
   },
   "outputs": [],
   "source": [
    "# (optionally) replace Prices with weekly (Friday) prices \n",
    "N = len(Prices.index)\n",
    "tmp = []\n",
    "for i in range(N):\n",
    "    if Prices.index[i].weekday()==4:\n",
    "        tmp.append(i)\n",
    "WeeklyPrices = Prices.iloc[tmp,:]\n",
    "#Prices = WeeklyPrices"
   ]
  },
  {
   "cell_type": "code",
   "execution_count": null,
   "metadata": {
    "collapsed": false,
    "scrolled": false
   },
   "outputs": [],
   "source": [
    "import numpy as np\n",
    "LogReturns = Prices.apply(lambda x: np.log(x)-np.log(x.shift(1)))\n",
    "# use only returns that correspond to the smallest timestep (1 day, 1 week, etc)\n",
    "t = Prices.index; dt = min(diff(t))\n",
    "t = Prices.index;ind=find(diff(t)==dt);\n",
    "LogReturns = LogReturns.iloc[ind,:] \n",
    "dt = int(dt/np.timedelta64(1, 'D')) # in days\n",
    "# plot\n",
    "fig = figure(figsize=(12,8))\n",
    "ax = fig.add_subplot(1, 1, 1)\n",
    "rc('xtick',labelsize=12);rc('ytick',labelsize=12);rc('legend',fontsize=12)\n",
    "LogReturns.plot(ax=ax,style='go',grid = True,linewidth=0.2,markersize=6,markeredgecolor='black',markeredgewidth=0.5,alpha=0.4,clip_on=False);\n",
    "if dt==1:\n",
    "    ylabel('Log Return (1 day)',fontsize=18)\n",
    "else:\n",
    "    ylabel('Log Return (%d days)'%dt,fontsize=18)\n",
    "xlabel('Date',fontsize=18)\n",
    "savefig(\"Images/\"+Symbol+\"LogReturns.pdf\")\n",
    "savefig(\"Images/\"+Symbol+\"LogReturns.eps\")\n",
    "mpld3.display(fig)"
   ]
  },
  {
   "cell_type": "markdown",
   "metadata": {},
   "source": [
    "Let's create a histogram of the log-returns and compare with the best fit normal."
   ]
  },
  {
   "cell_type": "code",
   "execution_count": null,
   "metadata": {
    "collapsed": false
   },
   "outputs": [],
   "source": [
    "fig = figure(figsize=(8,6))\n",
    "ax = fig.add_subplot(1, 1, 1)\n",
    "nbins = 100\n",
    "x = LogReturns.values[1:]\n",
    "x.shape = (len(x),) # make sure the dimensions of x are what the tests below expect\n",
    "n,bins,patches = hist(x,nbins,normed=1,facecolor='green',alpha=0.5)\n",
    "mu = np.mean(x); sigma = np.std(x);\n",
    "xx = linspace(bins[0],bins[-1],200)\n",
    "y = normpdf(xx,mu,sigma)\n",
    "plot(xx,y,'r--')\n",
    "ax.annotate('$\\mu=$%.6f, $\\sigma=$%.6f' % (mu,sigma), xy=(0.15, 0.8), xycoords='figure fraction',\n",
    "             ha=\"left\", va=\"bottom\",bbox=dict(boxstyle=\"square\", fc=\"0.9\"))\n",
    "xlabel('Log returns',fontsize=16);ylabel('Probability',fontsize=16);\n",
    "title('%s Log Returns' % LogReturns.columns[0],fontsize=18)\n",
    "ax.grid(True)\n",
    "savefig(\"Images/\"+Symbol+\"Histogram.pdf\")\n",
    "savefig(\"Images/\"+Symbol+\"Histogram.eps\")\n",
    "show()"
   ]
  },
  {
   "cell_type": "markdown",
   "metadata": {},
   "source": [
    ">Will the fit be better if we remove the outliers, or subsample the data? "
   ]
  },
  {
   "cell_type": "markdown",
   "metadata": {},
   "source": [
    "I may want to do some more sophisticated testing, perhaps. We can use scipy.stats to do a qq plot."
   ]
  },
  {
   "cell_type": "code",
   "execution_count": null,
   "metadata": {
    "collapsed": false,
    "scrolled": false
   },
   "outputs": [],
   "source": [
    "from scipy import stats\n",
    "res = (x-mu)/sigma \n",
    "sres = np.sort(res,axis=None)\n",
    "fig = figure(figsize=(8,6))\n",
    "ax = fig.add_subplot(1, 1, 1)\n",
    "rc('xtick',labelsize=12);rc('ytick',labelsize=12);rc('legend',fontsize=12)\n",
    "h = stats.probplot(res,plot=matplotlib.pyplot)\n",
    "grid();\n",
    "h1=ax.get_children()\n",
    "h1[0].set(markerfacecolor='green',markeredgecolor='black',markeredgewidth=0.2,markersize=6,alpha=0.4)\n",
    "h1[1].set(color='red',linestyle='--')\n",
    "xlim(-5,5)\n",
    "savefig(\"Images/\"+Symbol+\"QQPlot.pdf\")\n",
    "savefig(\"Images/\"+Symbol+\"QQPlot.eps\")\n",
    "show(fig)"
   ]
  },
  {
   "cell_type": "markdown",
   "metadata": {},
   "source": [
    "It will be quite difficult to find time series that behave convincingly like stationary geometric Brownian motions. Most of the time the tests below will reject the normality of the standardized log returns."
   ]
  },
  {
   "cell_type": "code",
   "execution_count": null,
   "metadata": {
    "collapsed": false
   },
   "outputs": [],
   "source": [
    "#res = np.random.normal(0,1,10000);sres = np.sort(res,axis=None) # uncomment this to see numbers that pass the tests!\n",
    "print('The Jarque-Bera statistic is %f, with p-value %g' % stats.jarque_bera(sres))\n",
    "if len(res)<5000: # apparently this test is inaccurate for longer samples\n",
    "    print('The Shapiro-Wilk statistic is %f, with p-value %g' % stats.shapiro(sres))\n",
    "print('The Kolmogorov-Smirnov statistic is %f, with p-value %g' % stats.kstest(sres,'norm'))\n",
    "ad = stats.anderson(res,dist='norm') # for some reason, sometimes ends up dividing by zero\n",
    "# the Anderson-Darling test provides a list of levels and corresponding significances\n",
    "i = find(ad[0]>ad[1]); \n",
    "if any(i): \n",
    "    i = argmax(i)\n",
    "    print('According to the Anderson-Darling test, normality can be rejected at the %d%% significance level.'%ad[2][i])\n",
    "else:\n",
    "    print('According to the Anderson-Darling test, normality cannot be rejected at the %d%% significance level.'%ad[2][0])"
   ]
  },
  {
   "cell_type": "code",
   "execution_count": null,
   "metadata": {
    "collapsed": false
   },
   "outputs": [],
   "source": []
  }
 ],
 "metadata": {
  "anaconda-cloud": {},
  "kernelspec": {
   "display_name": "Python 3",
   "language": "python",
   "name": "python3"
  },
  "language_info": {
   "codemirror_mode": {
    "name": "ipython",
    "version": 3
   },
   "file_extension": ".py",
   "mimetype": "text/x-python",
   "name": "python",
   "nbconvert_exporter": "python",
   "pygments_lexer": "ipython3",
   "version": "3.5.2"
  }
 },
 "nbformat": 4,
 "nbformat_minor": 1
}
