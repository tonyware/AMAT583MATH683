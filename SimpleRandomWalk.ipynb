{
 "cells": [
  {
   "cell_type": "markdown",
   "metadata": {
    "collapsed": true
   },
   "source": [
    "We are going to simulate some simple random walks and look at their statistical properties."
   ]
  },
  {
   "cell_type": "code",
   "execution_count": null,
   "metadata": {
    "collapsed": false
   },
   "outputs": [],
   "source": [
    "# get some modules installed to start with\n",
    "import numpy as np\n",
    "from scipy.stats import binom\n",
    "#from pylab import *\n",
    "#%matplotlib inline\n",
    "#%matplotlib notebook\n",
    "%pylab notebook\n",
    "#style.use('seaborn-white')\n",
    "import seaborn as sns"
   ]
  },
  {
   "cell_type": "code",
   "execution_count": null,
   "metadata": {
    "collapsed": false,
    "scrolled": false
   },
   "outputs": [],
   "source": [
    "# set the length of the simulation\n",
    "N = 200\n",
    "# determine the time step\n",
    "dt = 1/N\n",
    "mu = 0.5; sigma = 0.5\n",
    "# define a distribution to draw increments from\n",
    "inc = lambda: 2*np.random.randint(0,2)-1 # 1 or -1, equally likely\n",
    "# generate the plot data\n",
    "t = np.linspace(0,1,N+1)\n",
    "y = np.zeros(np.size(t));\n",
    "for n in range(N):\n",
    "    y[n+1] = y[n]+mu*dt+sigma*np.sqrt(dt)*inc()\n",
    "    \n",
    "fig = figure(figsize=(8,6));\n",
    "ax = subplot(111);\n",
    "\n",
    "# create indices for a stair plot\n",
    "ii = np.floor(linspace(0,N+1,2*N+2)); ii=ii.astype(int); ii = ii[:-1]\n",
    "\n",
    "plot(t[ii[1:]],y[ii[:-1]],drawstyle='steps',linewidth=1);\n",
    "ax.grid(True)\n",
    "savefig('Images/RandWalk%d.eps'%N)\n",
    "savefig('Images/RandWalk%d.pdf'%N)"
   ]
  },
  {
   "cell_type": "markdown",
   "metadata": {},
   "source": [
    "The end result of such a simulation is a binomial random variable with mean 0 and variance 1."
   ]
  },
  {
   "cell_type": "code",
   "execution_count": null,
   "metadata": {
    "collapsed": false,
    "scrolled": false
   },
   "outputs": [],
   "source": [
    "N=200\n",
    "x = np.sqrt(N)*np.linspace(-1,1,N+1);\n",
    "p = binom.pmf(np.arange(0,N+1,1), N, 0.5)\n",
    "fig = figure(figsize=(8,6));\n",
    "ax = subplot(111);\n",
    "markerline, stemlines, baseline = stem(x,p,'k-');\n",
    "setp(markerline,markersize=40/np.sqrt(N),color='k',clip_on=False) # adjust the marker size in accordance with the sapcing between data points\n",
    "setp(baseline,color='k')\n",
    "setp(stemlines,linewidth=10/sqrt(N)) # adjust the line width in accordance with the sapcing between data points\n",
    "xlabel('Final Simulated Value')\n",
    "ylabel('Probability')\n",
    "ax.grid(True)\n",
    "savefig('Images/BinDist%d.eps'%N)\n",
    "savefig('Images/BinDist%d.pdf'%N)"
   ]
  },
  {
   "cell_type": "code",
   "execution_count": null,
   "metadata": {
    "collapsed": false
   },
   "outputs": [],
   "source": [
    "# Use Matlab-style vector operations to create some sample Brownian motion paths\n",
    "z = np.random.randn(len(t),10) # standard normals\n",
    "w = np.cumsum(z*sqrt(dt),axis=0) # sample Brownian motions"
   ]
  },
  {
   "cell_type": "code",
   "execution_count": null,
   "metadata": {
    "collapsed": false
   },
   "outputs": [],
   "source": [
    "w[:4,:4]"
   ]
  },
  {
   "cell_type": "code",
   "execution_count": null,
   "metadata": {
    "collapsed": false,
    "scrolled": true
   },
   "outputs": [],
   "source": [
    "plot(t,w);"
   ]
  },
  {
   "cell_type": "code",
   "execution_count": null,
   "metadata": {
    "collapsed": true
   },
   "outputs": [],
   "source": []
  }
 ],
 "metadata": {
  "kernelspec": {
   "display_name": "Python 3",
   "language": "python",
   "name": "python3"
  },
  "language_info": {
   "codemirror_mode": {
    "name": "ipython",
    "version": 3
   },
   "file_extension": ".py",
   "mimetype": "text/x-python",
   "name": "python",
   "nbconvert_exporter": "python",
   "pygments_lexer": "ipython3",
   "version": "3.5.2"
  }
 },
 "nbformat": 4,
 "nbformat_minor": 2
}
