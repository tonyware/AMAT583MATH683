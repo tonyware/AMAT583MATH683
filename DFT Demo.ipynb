{
 "cells": [
  {
   "cell_type": "code",
   "execution_count": null,
   "metadata": {
    "collapsed": false
   },
   "outputs": [],
   "source": [
    "\"\"\"\n",
    "Created on Mon Feb 13 16:45:17 2017\n",
    "\n",
    "@author: Ebi\n",
    "\"\"\"\n",
    "\n",
    "import numpy as np\n",
    "import matplotlib.pyplot as plt\n",
    "import math as mt\n",
    "\n",
    "def DFT(f):\n",
    "    # Compute the Discrete Fourier Transform of 1D Array\n",
    "    f = np.asarray(f, dtype=float)\n",
    "    N = len(f)\n",
    "    n = np.arange(N)\n",
    "    k = np.reshape(n,(N, 1))\n",
    "    M = np.exp(-2j * np.pi * k * n / N)\n",
    "    return np.dot(M, f)\n",
    "\n",
    "\n",
    "# Example\n",
    "time=np.arange(0,1,0.01)\n",
    "f=[mt.sin(50*np.pi*t)+2*mt.sin(20*np.pi*t) for t in time]\n",
    "\n",
    "# Create a txt file with name \"TimeSeries\" and save f into the file\n",
    "#np.savetxt('TimeSeries',f)\n",
    "\n",
    "\n",
    "# Open the txt file with name \"TimeSeries\" in the directory and read its lines \n",
    "# as float and put them in an array f.\n",
    "#f = [float(line.rstrip()) for line in open('TimeSeries')]\n",
    "\n",
    "\n",
    "amp=np.abs(DFT(f))\n",
    "freq=np.arange(len(f))\n",
    "\n",
    "#np.savetxt('outfile',amp)\n",
    "#data = np.genfromtxt(\"Timeseries\",delimiter=\"\\n\")\n",
    "#with open('outfile','r') as fil:\n",
    "#    content = fil.read()\n",
    "#lines = [float(line.rstrip()) for line in open('outfile')]\n",
    "#lines = open('outfile').read().splitlines()\n",
    "\n",
    "plt.figure()\n",
    "plt.subplot(3,1,1)\n",
    "\n",
    "plt.plot(time, f, 'r')\n",
    "plt.xlabel('Time (s)')\n",
    "plt.ylabel('Magnitude')\n",
    "plt.grid('on')\n",
    "plt.title('A time series and its DFT')\n",
    "\n",
    "plt.subplot(3,2,6)\n",
    "plt.plot(freq, amp, 'b')\n",
    "plt.xlabel('Frequency')\n",
    "plt.ylabel('Abs DFT coefficients')\n",
    "plt.grid('on')\n",
    "\n",
    "plt.show()"
   ]
  },
  {
   "cell_type": "code",
   "execution_count": null,
   "metadata": {
    "collapsed": true
   },
   "outputs": [],
   "source": []
  }
 ],
 "metadata": {
  "kernelspec": {
   "display_name": "Python 3",
   "language": "python",
   "name": "python3"
  },
  "language_info": {
   "codemirror_mode": {
    "name": "ipython",
    "version": 3
   },
   "file_extension": ".py",
   "mimetype": "text/x-python",
   "name": "python",
   "nbconvert_exporter": "python",
   "pygments_lexer": "ipython3",
   "version": "3.5.2"
  }
 },
 "nbformat": 4,
 "nbformat_minor": 1
}
